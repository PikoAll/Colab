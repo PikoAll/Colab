{
  "nbformat": 4,
  "nbformat_minor": 0,
  "metadata": {
    "colab": {
      "name": "AIRaggiXDatiSplittati.ipynb",
      "provenance": [],
      "collapsed_sections": [],
      "toc_visible": true,
      "machine_shape": "hm",
      "authorship_tag": "ABX9TyOfvJ7ig5kHNVeb6tl15gQQ",
      "include_colab_link": true
    },
    "kernelspec": {
      "name": "python3",
      "display_name": "Python 3"
    },
    "language_info": {
      "name": "python"
    },
    "accelerator": "GPU"
  },
  "cells": [
    {
      "cell_type": "markdown",
      "metadata": {
        "id": "view-in-github",
        "colab_type": "text"
      },
      "source": [
        "<a href=\"https://colab.research.google.com/github/PikoAll/Colab/blob/main/AIRaggiXDatiSplittati.ipynb\" target=\"_parent\"><img src=\"https://colab.research.google.com/assets/colab-badge.svg\" alt=\"Open In Colab\"/></a>"
      ]
    },
    {
      "cell_type": "markdown",
      "metadata": {
        "id": "bvFl0TPsp320"
      },
      "source": [
        "AI per riconoscere polmonite\n",
        "kaggle : https://www.kaggle.com/paultimothymooney/chest-xray-pneumonia"
      ]
    },
    {
      "cell_type": "code",
      "metadata": {
        "id": "j_8U2jVBp7uW"
      },
      "source": [
        "# tutti gli import\n",
        "\n",
        "import os\n",
        "import shutil\n",
        "import zipfile\n",
        "import cv2\n",
        "import numpy as np\n",
        "import matplotlib.pyplot as plt\n",
        "import seaborn as sn\n",
        "from tensorflow.keras.utils import  to_categorical\n",
        "from tensorflow.keras.models import Sequential\n",
        "from tensorflow.keras.layers import Dense,Flatten,Dropout,Conv2D,MaxPool2D, BatchNormalization, MaxPooling2D   ############################# o 3D\n",
        "from tensorflow.keras.regularizers import l2 \n",
        "import tensorflow\n",
        "from sklearn.metrics import confusion_matrix"
      ],
      "execution_count": 1,
      "outputs": []
    },
    {
      "cell_type": "code",
      "metadata": {
        "id": "fHY8cedeqGSe"
      },
      "source": [
        "#Costanti\n",
        "DIM=(224,224)"
      ],
      "execution_count": 2,
      "outputs": []
    },
    {
      "cell_type": "code",
      "metadata": {
        "id": "HEyHvhn0qNWR"
      },
      "source": [
        "os.mkdir(\"Dataset\")"
      ],
      "execution_count": 3,
      "outputs": []
    },
    {
      "cell_type": "code",
      "metadata": {
        "id": "5fr10yrEqT7D",
        "colab": {
          "base_uri": "https://localhost:8080/"
        },
        "outputId": "32c3ac99-8235-43a2-a4ae-099e853e30b1"
      },
      "source": [
        "from google.colab import drive\n",
        "drive.mount('/content/drive')"
      ],
      "execution_count": 4,
      "outputs": [
        {
          "output_type": "stream",
          "name": "stdout",
          "text": [
            "Mounted at /content/drive\n"
          ]
        }
      ]
    },
    {
      "cell_type": "code",
      "metadata": {
        "id": "Q1LMoMW8qkZc",
        "colab": {
          "base_uri": "https://localhost:8080/",
          "height": 35
        },
        "outputId": "ff79eafb-202b-47c0-d7d4-b03e88272bb8"
      },
      "source": [
        "#copio la caretella qua\n",
        "shutil.copy(\"/content/drive/MyDrive/Dataset/RaggiXPolmonite.zip\",\"/content/Dataset/\")"
      ],
      "execution_count": 5,
      "outputs": [
        {
          "output_type": "execute_result",
          "data": {
            "application/vnd.google.colaboratory.intrinsic+json": {
              "type": "string"
            },
            "text/plain": [
              "'/content/Dataset/RaggiXPolmonite.zip'"
            ]
          },
          "metadata": {},
          "execution_count": 5
        }
      ]
    },
    {
      "cell_type": "markdown",
      "metadata": {
        "id": "FZVmDYzNq-5n"
      },
      "source": [
        "Estrazione da file zip"
      ]
    },
    {
      "cell_type": "code",
      "metadata": {
        "id": "RKqwQVCmq9X3"
      },
      "source": [
        "# apertura dell'archivio per estrazione\n",
        "archivio = zipfile.ZipFile('/content/Dataset/RaggiXPolmonite.zip')\n",
        "\n",
        "# estrazione di tutti i file\n",
        "archivio.extractall(\"/content/Dataset/\")  #percorso dove estrerre i file\n",
        "\n",
        "# chiusura\n",
        "archivio.close()"
      ],
      "execution_count": 6,
      "outputs": []
    },
    {
      "cell_type": "code",
      "metadata": {
        "id": "XONekOqwrWKH",
        "colab": {
          "base_uri": "https://localhost:8080/"
        },
        "outputId": "eb00f3c9-6066-4447-d248-e0214cd7ffc5"
      },
      "source": [
        "os.chdir(\"/content/Dataset/chest_xray/\")  #per cambiare cartella\n",
        "print(os.listdir())"
      ],
      "execution_count": 7,
      "outputs": [
        {
          "output_type": "stream",
          "name": "stdout",
          "text": [
            "['train', 'val', 'test', 'chest_xray', '__MACOSX']\n"
          ]
        }
      ]
    },
    {
      "cell_type": "markdown",
      "metadata": {
        "id": "k3rwdIjosKOx"
      },
      "source": [
        "Carico le img e li processo"
      ]
    },
    {
      "cell_type": "code",
      "metadata": {
        "id": "NtRpYFvysCbi",
        "colab": {
          "base_uri": "https://localhost:8080/"
        },
        "outputId": "b237dda1-a7ec-4d33-9369-59d48d845628"
      },
      "source": [
        "X_test=[]\n",
        "X_train=[]\n",
        "\n",
        "y_test=[]\n",
        "y_train=[]\n",
        "\n",
        "X_val=[]\n",
        "y_val=[]\n",
        "\n",
        "cartelle=['test','val','train']\n",
        "#cartelle=['val','train']\n",
        "\n",
        "for i in cartelle:\n",
        "\n",
        "  for j in os.listdir(\"/content/Dataset/chest_xray/\"+i+\"/\"):\n",
        "    \n",
        "    for z in os.listdir(\"/content/Dataset/chest_xray/\"+i+\"/\"+j+\"/\"):\n",
        "      \n",
        "      img=cv2.imread(\"/content/Dataset/chest_xray/\"+i+\"/\"+j+\"/\"+z)\n",
        "      img=cv2.resize(img,DIM,interpolation=cv2.INTER_NEAREST)/255     #ridimensinamento immaggine  il /255 normalizza i pixel  (100,100)\n",
        "      \n",
        "      #X.append(img)\n",
        "      #y.append(j)\n",
        "      \n",
        "      if i==cartelle[0]:\n",
        "        X_test.append(img)\n",
        "        y_test.append(j)\n",
        "\n",
        "      elif i==cartelle[1]:\n",
        "        X_val.append(img)\n",
        "        y_val.append(j)\n",
        "      else:\n",
        "        X_train.append(img)\n",
        "        y_train.append(j)\n",
        "      \n",
        "\n",
        "X_train=np.array(X_train)\n",
        "y_train=np.array(y_train) \n",
        "\n",
        "X_test=np.array(X_test)\n",
        "y_test=np.array(y_test)\n",
        "\n",
        "X_val=np.array(X_val)\n",
        "y_val=np.array(y_val) \n",
        "\n",
        "print(\"Train X \",X_train.shape,\" y \", y_train.shape)\n",
        "print(\"Test X \",X_test.shape,\" y \", y_test.shape)\n",
        "print(\"Validazione X \",X_val.shape,\" y \", y_val.shape)\n"
      ],
      "execution_count": 8,
      "outputs": [
        {
          "output_type": "stream",
          "name": "stdout",
          "text": [
            "Train X  (5216, 224, 224, 3)  y  (5216,)\n",
            "Test X  (624, 224, 224, 3)  y  (624,)\n",
            "Validazione X  (16, 224, 224, 3)  y  (16,)\n"
          ]
        }
      ]
    },
    {
      "cell_type": "code",
      "metadata": {
        "id": "TqhjXCCxxs_i"
      },
      "source": [
        "def show_exaple(x):\n",
        "  fig=plt.figure()\n",
        "\n",
        "  for i in range(x.shape[0]):\n",
        "    plot=fig.add_subplot(1,x.shape[0], i+1)\n",
        "    plt.imshow(X_train[i])\n",
        "    plt.axis(\"off\")"
      ],
      "execution_count": 9,
      "outputs": []
    },
    {
      "cell_type": "code",
      "metadata": {
        "colab": {
          "base_uri": "https://localhost:8080/",
          "height": 89
        },
        "id": "vZu9TCpZyBg2",
        "outputId": "974b04a7-0ef6-4acf-a6de-d5b6bf29ba28"
      },
      "source": [
        "show_exaple(X_train[:5])  # gli ho passato solo le prime 5 immaggini di X"
      ],
      "execution_count": 10,
      "outputs": [
        {
          "output_type": "display_data",
          "data": {
            "image/png": "[encoded data removed]",
            "text/plain": [
              "<Figure size 432x288 with 5 Axes>"
            ]
          },
          "metadata": {
            "needs_background": "light"
          }
        }
      ]
    },
    {
      "cell_type": "markdown",
      "metadata": {
        "id": "Knq3CAwjyMrI"
      },
      "source": [
        "To categorical"
      ]
    },
    {
      "cell_type": "code",
      "metadata": {
        "colab": {
          "base_uri": "https://localhost:8080/"
        },
        "id": "G3ffdmSAyPjm",
        "outputId": "4459df29-c108-4af5-a6d7-6f33fbce9288"
      },
      "source": [
        "#Y=[]\n",
        "Y_test=[]\n",
        "Y_train=[]\n",
        "Y_val=[]\n",
        "\n",
        "\n",
        "for i in y_test:\n",
        "  if i==\"NORMAL\":\n",
        "    Y_test.append(0)\n",
        "  elif i==\"PNEUMONIA\":\n",
        "    Y_test.append(1)\n",
        "\n",
        "for i in y_train:\n",
        "  if i==\"NORMAL\":\n",
        "    Y_train.append(0)\n",
        "  elif i==\"PNEUMONIA\":\n",
        "    Y_train.append(1)\n",
        "\n",
        "for i in y_val:\n",
        "  if i==\"NORMAL\":\n",
        "    Y_val.append(0)\n",
        "  elif i==\"PNEUMONIA\":\n",
        "    Y_val.append(1)\n",
        "\n",
        "\n",
        "Y_test=to_categorical(Y_test)\n",
        "Y_train=to_categorical(Y_train)\n",
        "Y_val=to_categorical(Y_val)\n",
        "\n",
        "\n",
        "\n",
        "print(\"Train X \",X_train.shape,\" y \", Y_train.shape)\n",
        "print(\"Test X \",X_test.shape,\" y \", Y_test.shape)\n",
        "print(\"Validazione X \",X_val.shape,\" y \", Y_val.shape)"
      ],
      "execution_count": 11,
      "outputs": [
        {
          "output_type": "stream",
          "name": "stdout",
          "text": [
            "Train X  (5216, 224, 224, 3)  y  (5216, 2)\n",
            "Test X  (624, 224, 224, 3)  y  (624, 2)\n",
            "Validazione X  (16, 224, 224, 3)  y  (16, 2)\n"
          ]
        }
      ]
    },
    {
      "cell_type": "code",
      "metadata": {
        "id": "NCAC5Ih7AeeL",
        "colab": {
          "base_uri": "https://localhost:8080/"
        },
        "outputId": "7b7c15a0-c59c-46f3-d28b-cc488e83bff4"
      },
      "source": [
        "from tensorflow.keras import backend as K\n",
        "K.clear_session()\n",
        "model = Sequential()\n",
        "model.add(Conv2D(32, kernel_size=(3, 3), activation='relu', input_shape=(224,224,3)))\n",
        "model.add(MaxPooling2D(pool_size=(2, 2)))\n",
        "model.add(Conv2D(64, kernel_size=(3, 3), activation='relu'))\n",
        "model.add(MaxPooling2D(pool_size=(2, 2)))\n",
        "model.add(Flatten())\n",
        "model.add(Dense(32, activation='relu',kernel_regularizer=l2(0.01)))\n",
        "model.add(Dropout(0.5))\n",
        "model.add(Dense(32, activation='relu',kernel_regularizer=l2(0.01)))\n",
        "model.add(Dropout(0.5))\n",
        "model.add(Dense(2, activation='sigmoid'))\n",
        "model.summary()"
      ],
      "execution_count": 12,
      "outputs": [
        {
          "output_type": "stream",
          "name": "stdout",
          "text": [
            "Model: \"sequential\"\n",
            "_________________________________________________________________\n",
            "Layer (type)                 Output Shape              Param #   \n",
            "=================================================================\n",
            "conv2d (Conv2D)              (None, 222, 222, 32)      896       \n",
            "_________________________________________________________________\n",
            "max_pooling2d (MaxPooling2D) (None, 111, 111, 32)      0         \n",
            "_________________________________________________________________\n",
            "conv2d_1 (Conv2D)            (None, 109, 109, 64)      18496     \n",
            "_________________________________________________________________\n",
            "max_pooling2d_1 (MaxPooling2 (None, 54, 54, 64)        0         \n",
            "_________________________________________________________________\n",
            "flatten (Flatten)            (None, 186624)            0         \n",
            "_________________________________________________________________\n",
            "dense (Dense)                (None, 32)                5972000   \n",
            "_________________________________________________________________\n",
            "dropout (Dropout)            (None, 32)                0         \n",
            "_________________________________________________________________\n",
            "dense_1 (Dense)              (None, 32)                1056      \n",
            "_________________________________________________________________\n",
            "dropout_1 (Dropout)          (None, 32)                0         \n",
            "_________________________________________________________________\n",
            "dense_2 (Dense)              (None, 2)                 66        \n",
            "=================================================================\n",
            "Total params: 5,992,514\n",
            "Trainable params: 5,992,514\n",
            "Non-trainable params: 0\n",
            "_________________________________________________________________\n"
          ]
        }
      ]
    },
    {
      "cell_type": "code",
      "metadata": {
        "id": "7UySyjidAo1z",
        "colab": {
          "base_uri": "https://localhost:8080/"
        },
        "outputId": "78a725a0-8517-472f-d88b-638fdeb3677b"
      },
      "source": [
        "print(\"X train \", X_train.shape)\n",
        "print(\"X test \", X_test.shape)\n",
        "print(\"y train \", y_train.shape)\n",
        "print(\"y test \", y_test.shape)\n",
        "\n",
        "\n",
        "model.compile(loss=tensorflow.keras.losses.binary_crossentropy, optimizer=tensorflow.keras.optimizers.Adam(0.01), metrics=[\"accuracy\",\"AUC\"]) #SparseCategoricalCrossentropy()\n",
        "#model.compile(loss=tensorflow.keras.losses.binary_crossentropy, optimizer=tensorflow.keras.optimizers.SGD(0.01), metrics=[\"accuracy\",\"AUC\"]) #SparseCategoricalCrossentropy()\n",
        "#model.compile(loss='binary_crossentropy',               optimizer='adam',               metrics=['accuracy'])\n",
        "model.fit(X_train,Y_train,validation_data=(X_val,Y_val),validation_split=0.1, epochs=20)"
      ],
      "execution_count": 15,
      "outputs": [
        {
          "output_type": "stream",
          "name": "stdout",
          "text": [
            "X train  (5216, 224, 224, 3)\n",
            "X test  (624, 224, 224, 3)\n",
            "y train  (5216,)\n",
            "y test  (624,)\n",
            "Epoch 1/20\n",
            "147/147 [==============================] - 24s 45ms/step - loss: 3.1319 - accuracy: 0.7203 - auc: 0.7987 - val_loss: 0.4782 - val_accuracy: 0.9464 - val_auc: 0.9899\n",
            "Epoch 2/20\n",
            "147/147 [==============================] - 6s 38ms/step - loss: 0.8454 - accuracy: 0.7693 - auc: 0.8728 - val_loss: 0.4321 - val_accuracy: 0.9138 - val_auc: 0.9901\n",
            "Epoch 3/20\n",
            "147/147 [==============================] - 6s 38ms/step - loss: 0.6018 - accuracy: 0.8123 - auc: 0.8988 - val_loss: 0.3667 - val_accuracy: 0.8870 - val_auc: 0.9829\n",
            "Epoch 4/20\n",
            "147/147 [==============================] - 5s 37ms/step - loss: 0.6277 - accuracy: 0.8155 - auc: 0.9031 - val_loss: 0.5352 - val_accuracy: 0.7912 - val_auc: 0.9267\n",
            "Epoch 5/20\n",
            "147/147 [==============================] - 6s 38ms/step - loss: 0.6176 - accuracy: 0.8277 - auc: 0.9115 - val_loss: 0.4216 - val_accuracy: 0.8448 - val_auc: 0.9672\n",
            "Epoch 6/20\n",
            "147/147 [==============================] - 6s 38ms/step - loss: 0.6147 - accuracy: 0.8157 - auc: 0.9082 - val_loss: 0.3991 - val_accuracy: 0.9119 - val_auc: 0.9818\n",
            "Epoch 7/20\n",
            "147/147 [==============================] - 5s 37ms/step - loss: 0.6607 - accuracy: 0.8242 - auc: 0.9121 - val_loss: 0.4662 - val_accuracy: 0.9253 - val_auc: 0.9851\n",
            "Epoch 8/20\n",
            "147/147 [==============================] - 6s 38ms/step - loss: 0.6330 - accuracy: 0.8236 - auc: 0.9163 - val_loss: 0.5235 - val_accuracy: 0.8410 - val_auc: 0.9544\n",
            "Epoch 9/20\n",
            "147/147 [==============================] - 6s 38ms/step - loss: 0.6602 - accuracy: 0.8300 - auc: 0.9220 - val_loss: 0.4464 - val_accuracy: 0.8908 - val_auc: 0.9813\n",
            "Epoch 10/20\n",
            "147/147 [==============================] - 6s 38ms/step - loss: 0.7154 - accuracy: 0.8268 - auc: 0.9140 - val_loss: 0.4248 - val_accuracy: 0.8659 - val_auc: 0.9660\n",
            "Epoch 11/20\n",
            "147/147 [==============================] - 6s 38ms/step - loss: 0.6958 - accuracy: 0.8421 - auc: 0.9271 - val_loss: 0.8191 - val_accuracy: 0.7816 - val_auc: 0.9270\n",
            "Epoch 12/20\n",
            "147/147 [==============================] - 6s 38ms/step - loss: 0.7405 - accuracy: 0.8494 - auc: 0.9330 - val_loss: 0.6346 - val_accuracy: 0.8793 - val_auc: 0.9803\n",
            "Epoch 13/20\n",
            "147/147 [==============================] - 6s 38ms/step - loss: 0.6659 - accuracy: 0.8628 - auc: 0.9416 - val_loss: 0.4464 - val_accuracy: 0.9061 - val_auc: 0.9883\n",
            "Epoch 14/20\n",
            "147/147 [==============================] - 6s 38ms/step - loss: 0.7019 - accuracy: 0.8643 - auc: 0.9432 - val_loss: 0.6534 - val_accuracy: 0.8238 - val_auc: 0.9538\n",
            "Epoch 15/20\n",
            "147/147 [==============================] - 6s 38ms/step - loss: 0.6555 - accuracy: 0.8769 - auc: 0.9506 - val_loss: 0.6245 - val_accuracy: 0.9042 - val_auc: 0.9848\n",
            "Epoch 16/20\n",
            "147/147 [==============================] - 6s 38ms/step - loss: 0.7002 - accuracy: 0.8679 - auc: 0.9442 - val_loss: 0.5545 - val_accuracy: 0.9119 - val_auc: 0.9841\n",
            "Epoch 17/20\n",
            "147/147 [==============================] - 6s 38ms/step - loss: 1.1134 - accuracy: 0.8585 - auc: 0.9390 - val_loss: 1.7561 - val_accuracy: 0.9330 - val_auc: 0.9927\n",
            "Epoch 18/20\n",
            "147/147 [==============================] - 6s 38ms/step - loss: 0.7753 - accuracy: 0.8722 - auc: 0.9448 - val_loss: 0.6117 - val_accuracy: 0.9023 - val_auc: 0.9852\n",
            "Epoch 19/20\n",
            "147/147 [==============================] - 6s 38ms/step - loss: 0.7346 - accuracy: 0.8694 - auc: 0.9442 - val_loss: 0.6219 - val_accuracy: 0.8716 - val_auc: 0.9719\n",
            "Epoch 20/20\n",
            "147/147 [==============================] - 6s 38ms/step - loss: 0.7628 - accuracy: 0.8786 - auc: 0.9501 - val_loss: 0.6307 - val_accuracy: 0.8793 - val_auc: 0.9775\n"
          ]
        },
        {
          "output_type": "execute_result",
          "data": {
            "text/plain": [
              "<keras.callbacks.History at 0x7f96d01b8cd0>"
            ]
          },
          "metadata": {},
          "execution_count": 15
        }
      ]
    },
    {
      "cell_type": "code",
      "metadata": {
        "colab": {
          "base_uri": "https://localhost:8080/"
        },
        "id": "9cWbEGS_JHJ4",
        "outputId": "70093510-6bcf-4423-d4f5-34ea91513c7d"
      },
      "source": [
        "metrics_train=model.evaluate(X_train,Y_train)\n",
        "metrics_test=model.evaluate(X_test,Y_test)\n",
        "print(\"Train accuracy \",metrics_train[1])\n",
        "print(\"Test accuracy \",metrics_test[1])\n"
      ],
      "execution_count": 16,
      "outputs": [
        {
          "output_type": "stream",
          "name": "stdout",
          "text": [
            "163/163 [==============================] - 3s 16ms/step - loss: 0.6701 - accuracy: 0.9009 - auc: 0.9722\n",
            "20/20 [==============================] - 0s 22ms/step - loss: 1.0565 - accuracy: 0.8462 - auc: 0.8969\n",
            "Train accuracy  0.9008818864822388\n",
            "Test accuracy  0.8461538553237915\n"
          ]
        }
      ]
    },
    {
      "cell_type": "code",
      "metadata": {
        "id": "49sR8kqUJVT4",
        "colab": {
          "base_uri": "https://localhost:8080/"
        },
        "outputId": "d2cd1ef5-fb6e-408f-f8cc-ecd7c8009dbc"
      },
      "source": [
        "pred=model.predict(X_test)\n",
        "pred=np.argmax(pred,axis=1)\n",
        "yy=np.argmax(Y_test,axis=1)\n",
        "cm= confusion_matrix(yy,pred)\n",
        "cm"
      ],
      "execution_count": 17,
      "outputs": [
        {
          "output_type": "execute_result",
          "data": {
            "text/plain": [
              "array([[175,  59],\n",
              "       [ 37, 353]])"
            ]
          },
          "metadata": {},
          "execution_count": 17
        }
      ]
    }
  ]
}