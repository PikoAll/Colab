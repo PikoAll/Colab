{
  "nbformat": 4,
  "nbformat_minor": 0,
  "metadata": {
    "colab": {
      "name": "AIFish.ipynb",
      "provenance": [],
      "collapsed_sections": [],
      "machine_shape": "hm",
      "authorship_tag": "ABX9TyNhjn2jJ7WckRY+sD5KPSGC",
      "include_colab_link": true
    },
    "kernelspec": {
      "name": "python3",
      "display_name": "Python 3"
    },
    "language_info": {
      "name": "python"
    },
    "accelerator": "GPU"
  },
  "cells": [
    {
      "cell_type": "markdown",
      "metadata": {
        "id": "view-in-github",
        "colab_type": "text"
      },
      "source": [
        "<a href=\"https://colab.research.google.com/github/PikoAll/Colab/blob/main/AIFish.ipynb\" target=\"_parent\"><img src=\"https://colab.research.google.com/assets/colab-badge.svg\" alt=\"Open In Colab\"/></a>"
      ]
    },
    {
      "cell_type": "markdown",
      "metadata": {
        "id": "zZk7lIEUK5a9"
      },
      "source": [
        "Ai per riconoscere diverse tipologie di pesce, 9 tipologie totali kaggle: https://www.kaggle.com/crowww/a-large-scale-fish-dataset"
      ]
    },
    {
      "cell_type": "code",
      "metadata": {
        "id": "OBdqsNKGK4kW"
      },
      "source": [
        "# tutti gli import\n",
        "import os\n",
        "import shutil\n",
        "import zipfile\n",
        "import cv2\n",
        "import numpy as np\n",
        "import matplotlib.pyplot as plt\n",
        "import seaborn as sn\n",
        "from tensorflow.keras.utils import  to_categorical\n",
        "from tensorflow.keras.models import Sequential\n",
        "from tensorflow.keras.layers import Dense,Flatten,Dropout,Conv2D,MaxPool2D, BatchNormalization, MaxPooling2D   ############################# o 3D\n",
        "from tensorflow.keras.regularizers import l2 \n",
        "import tensorflow\n",
        "from sklearn.metrics import confusion_matrix"
      ],
      "execution_count": 1,
      "outputs": []
    },
    {
      "cell_type": "code",
      "metadata": {
        "id": "FIKxW2mUKkSS"
      },
      "source": [
        "#Costanti\n",
        "DIM=(224,224)"
      ],
      "execution_count": 2,
      "outputs": []
    },
    {
      "cell_type": "code",
      "metadata": {
        "id": "EXgNL-4ILIP1"
      },
      "source": [
        "os.mkdir(\"Dataset\")  #creo la cartella"
      ],
      "execution_count": 3,
      "outputs": []
    },
    {
      "cell_type": "code",
      "metadata": {
        "colab": {
          "base_uri": "https://localhost:8080/"
        },
        "id": "EFnm7Yb5LL1Y",
        "outputId": "89a00eb2-c4b5-446a-92c3-38b0f479248f"
      },
      "source": [
        " from google.colab import drive\n",
        "drive.mount('/content/drive')"
      ],
      "execution_count": 4,
      "outputs": [
        {
          "output_type": "stream",
          "name": "stdout",
          "text": [
            "Mounted at /content/drive\n"
          ]
        }
      ]
    },
    {
      "cell_type": "code",
      "metadata": {
        "colab": {
          "base_uri": "https://localhost:8080/",
          "height": 35
        },
        "id": "oDvMivF6LScE",
        "outputId": "61f8e8a8-455c-4dbf-dcee-ff149832a30f"
      },
      "source": [
        "#copio la caretella qua\n",
        "shutil.copy(\"/content/drive/MyDrive/Dataset/Fish.zip\",\"/content/Dataset/\")"
      ],
      "execution_count": 5,
      "outputs": [
        {
          "output_type": "execute_result",
          "data": {
            "application/vnd.google.colaboratory.intrinsic+json": {
              "type": "string"
            },
            "text/plain": [
              "'/content/Dataset/Fish.zip'"
            ]
          },
          "metadata": {},
          "execution_count": 5
        }
      ]
    },
    {
      "cell_type": "markdown",
      "metadata": {
        "id": "G6QDmMLvLeXn"
      },
      "source": [
        "Estrazione file zip"
      ]
    },
    {
      "cell_type": "code",
      "metadata": {
        "id": "JkLFandYLcxq"
      },
      "source": [
        "# apertura dell'archivio per estrazione\n",
        "archivio = zipfile.ZipFile('/content/Dataset/Fish.zip')\n",
        "\n",
        "# estrazione di tutti i file\n",
        "archivio.extractall(\"/content/Dataset/\")  #percorso dove estrerre i file\n",
        "\n",
        "# chiusura\n",
        "archivio.close()"
      ],
      "execution_count": 6,
      "outputs": []
    },
    {
      "cell_type": "code",
      "metadata": {
        "colab": {
          "base_uri": "https://localhost:8080/"
        },
        "id": "oyr_DLEAMB_R",
        "outputId": "7eb746ac-8148-4f1c-df57-acec66ec5f55"
      },
      "source": [
        "#elimino alcuni file inutili\n",
        "try: \n",
        "  os.remove(\"/content/Dataset/Fish_Dataset/Fish_Dataset/README.txt\")\n",
        "  #shutil.rmtree(\"/content/Dataset/Fish_Dataset/Fish_Dataset/Segmentation_example_script.m\")\n",
        "  os.remove(\"/content/Dataset/Fish_Dataset/Fish_Dataset/license.txt\")\n",
        "except EOFError:\n",
        "  print(\"problemi a eliminare qualcosa\")\n",
        "\n",
        "\n",
        "os.chdir(\"/content/Dataset/Fish_Dataset/Fish_Dataset\")\n",
        "print(len(os.listdir()))\n",
        "os.listdir()"
      ],
      "execution_count": 7,
      "outputs": [
        {
          "output_type": "stream",
          "name": "stdout",
          "text": [
            "10\n"
          ]
        },
        {
          "output_type": "execute_result",
          "data": {
            "text/plain": [
              "['Striped Red Mullet',\n",
              " 'Sea Bass',\n",
              " 'Shrimp',\n",
              " 'Red Sea Bream',\n",
              " 'Hourse Mackerel',\n",
              " 'Red Mullet',\n",
              " 'Gilt-Head Bream',\n",
              " 'Trout',\n",
              " 'Segmentation_example_script.m',\n",
              " 'Black Sea Sprat']"
            ]
          },
          "metadata": {},
          "execution_count": 7
        }
      ]
    },
    {
      "cell_type": "markdown",
      "metadata": {
        "id": "BhgBjVcfNsjh"
      },
      "source": [
        "Carico le immaggini"
      ]
    },
    {
      "cell_type": "code",
      "metadata": {
        "id": "14zjAqZHLkIp",
        "colab": {
          "base_uri": "https://localhost:8080/"
        },
        "outputId": "0b34d72a-5077-4030-c8fc-2a073dd1ff10"
      },
      "source": [
        "X=[]\n",
        "y=[]\n",
        "\n",
        "for i in os.listdir(\"/content/Dataset/Fish_Dataset/Fish_Dataset/\"):\n",
        "  \n",
        "  if i!=\"Segmentation_example_script.m\":\n",
        "\n",
        "    for j in os.listdir(\"/content/Dataset/Fish_Dataset/Fish_Dataset/\"+i+\"/\"):\n",
        "\n",
        "      if j==i:\n",
        "        count=0\n",
        "        for z in os.listdir(\"/content/Dataset/Fish_Dataset/Fish_Dataset/\"+i+\"/\"+j+\"/\"):\n",
        "\n",
        "          img=cv2.imread(\"/content/Dataset/Fish_Dataset/Fish_Dataset/\"+i+\"/\"+j+\"/\"+z)\n",
        "          img=cv2.resize(img,DIM,interpolation=cv2.INTER_LINEAR)/255     #ridimensinamento immaggine  il /255 normalizza i pixel  (100,100)\n",
        "      \n",
        "          X.append(img)\n",
        "          y.append(i)\n",
        "          count+=1\n",
        "          \n",
        "          if(count==600):\n",
        "            break\n",
        "          \n",
        "\n",
        "\n",
        "\n",
        "X=np.array(X)\n",
        "y=np.array(y) \n",
        "\n",
        "print(\"Tutto X \",X.shape,\" y \", y.shape)"
      ],
      "execution_count": 8,
      "outputs": [
        {
          "output_type": "stream",
          "name": "stdout",
          "text": [
            "Tutto X  (5400, 224, 224, 3)  y  (5400,)\n"
          ]
        }
      ]
    },
    {
      "cell_type": "code",
      "metadata": {
        "id": "aWz_nUP3UE3-",
        "colab": {
          "base_uri": "https://localhost:8080/"
        },
        "outputId": "14d7f30c-ce3b-4a9e-b117-d631a0386163"
      },
      "source": [
        "np.unique(y)"
      ],
      "execution_count": 9,
      "outputs": [
        {
          "output_type": "execute_result",
          "data": {
            "text/plain": [
              "array(['Black Sea Sprat', 'Gilt-Head Bream', 'Hourse Mackerel',\n",
              "       'Red Mullet', 'Red Sea Bream', 'Sea Bass', 'Shrimp',\n",
              "       'Striped Red Mullet', 'Trout'], dtype='<U18')"
            ]
          },
          "metadata": {},
          "execution_count": 9
        }
      ]
    },
    {
      "cell_type": "code",
      "metadata": {
        "id": "zBztsq3QPd5O"
      },
      "source": [
        "def show_exaple(x):\n",
        "  fig=plt.figure()\n",
        "\n",
        "  for i in range(x.shape[0]):\n",
        "    plot=fig.add_subplot(1,x.shape[0], i+1)\n",
        "    plt.imshow(X[i])\n",
        "    plt.axis(\"off\")"
      ],
      "execution_count": 10,
      "outputs": []
    },
    {
      "cell_type": "code",
      "metadata": {
        "id": "FbXDZrB3QBo4",
        "colab": {
          "base_uri": "https://localhost:8080/",
          "height": 89
        },
        "outputId": "e6ee115c-8ff3-4fa0-b907-833b9f37efcd"
      },
      "source": [
        "show_exaple(X[:5])  # gli ho passato solo le prime 5 immaggini di X"
      ],
      "execution_count": 11,
      "outputs": [
        {
          "output_type": "display_data",
          "data": {
            "image/png": "[encoded data removed]",
            "text/plain": [
              "<Figure size 432x288 with 5 Axes>"
            ]
          },
          "metadata": {
            "needs_background": "light"
          }
        }
      ]
    },
    {
      "cell_type": "markdown",
      "metadata": {
        "id": "E3Ljpo8FQ-PB"
      },
      "source": [
        "To categorical"
      ]
    },
    {
      "cell_type": "code",
      "metadata": {
        "id": "BzUk4Iz4Q__p"
      },
      "source": [
        "NomiCartelle=os.listdir(\"/content/Dataset/Fish_Dataset/Fish_Dataset/\")\n",
        "NomiCartelle\n",
        "\n",
        "Y=[]\n",
        "\n",
        "for i in y:\n",
        "  Y.append(NomiCartelle.index(i))\n",
        "\n",
        "Y=to_categorical(Y)"
      ],
      "execution_count": 12,
      "outputs": []
    },
    {
      "cell_type": "code",
      "metadata": {
        "id": "M6DSpeBQV6LN",
        "colab": {
          "base_uri": "https://localhost:8080/"
        },
        "outputId": "04e013b2-bf7e-4ff9-c2c2-b963a4e7c406"
      },
      "source": [
        "Y[-1]"
      ],
      "execution_count": 13,
      "outputs": [
        {
          "output_type": "execute_result",
          "data": {
            "text/plain": [
              "array([0., 0., 0., 0., 0., 0., 0., 0., 0., 1.], dtype=float32)"
            ]
          },
          "metadata": {},
          "execution_count": 13
        }
      ]
    },
    {
      "cell_type": "code",
      "metadata": {
        "id": "4RpBIxancQMt",
        "colab": {
          "base_uri": "https://localhost:8080/"
        },
        "outputId": "dfac82e5-e486-4319-bb37-c38c7ba5004a"
      },
      "source": [
        "from sklearn.model_selection import train_test_split\n",
        "X_train,X_test,y_train,y_test=train_test_split(X,Y,test_size=0.3, stratify=Y)\n",
        "\n",
        "print(\"X train \", X_train.shape)\n",
        "print(\"X test \", X_test.shape)\n",
        "print(\"y train \", y_train.shape)\n",
        "print(\"y test \", y_test.shape)"
      ],
      "execution_count": 14,
      "outputs": [
        {
          "output_type": "stream",
          "name": "stdout",
          "text": [
            "X train  (3780, 224, 224, 3)\n",
            "X test  (1620, 224, 224, 3)\n",
            "y train  (3780, 10)\n",
            "y test  (1620, 10)\n"
          ]
        }
      ]
    },
    {
      "cell_type": "code",
      "metadata": {
        "id": "7jqQpN58b2Sk",
        "colab": {
          "base_uri": "https://localhost:8080/"
        },
        "outputId": "ec10117e-5ab9-4a13-f3ed-754224a4e4c9"
      },
      "source": [
        "#K.clear_session()\n",
        "'''\n",
        "model = Sequential()\n",
        "model.add(Conv2D(32, kernel_size=(3, 3), activation='relu', input_shape=(224,224,3)))\n",
        "model.add(MaxPooling2D(pool_size=(2, 2)))\n",
        "model.add(Conv2D(64, kernel_size=(3, 3), activation='relu'))\n",
        "model.add(MaxPooling2D(pool_size=(2, 2)))\n",
        "model.add(Flatten())\n",
        "model.add(Dense(128, activation='relu',kernel_regularizer=l2(0.01)))\n",
        "model.add(Dropout(0.5))\n",
        "model.add(Dense(64, activation='relu',kernel_regularizer=l2(0.01)))\n",
        "model.add(Dropout(0.5))\n",
        "model.add(Dense(10, activation='softmax'))\n",
        "'''\n",
        "\n",
        "from tensorflow.keras import backend as K\n",
        "K.clear_session()\n",
        "model = Sequential()\n",
        "model.add(Conv2D(32, kernel_size=(3, 3), activation='relu', input_shape=(224,224,3)))   #########################\n",
        "model.add(MaxPooling2D(pool_size=(2, 2)))\n",
        "model.add(Conv2D(64, kernel_size=(3, 3), activation='relu'))\n",
        "model.add(MaxPooling2D(pool_size=(2, 2)))\n",
        "model.add(Flatten())\n",
        "model.add(Dense(254, activation='relu',kernel_regularizer=l2(0.01)))\n",
        "model.add(Dropout(0.5))\n",
        "model.add(Dense(64, activation='relu',kernel_regularizer=l2(0.01)))\n",
        "model.add(Dropout(0.5))\n",
        "model.add(Dense(10, activation='sigmoid'))\n",
        "model.summary()"
      ],
      "execution_count": 15,
      "outputs": [
        {
          "output_type": "stream",
          "name": "stdout",
          "text": [
            "Model: \"sequential\"\n",
            "_________________________________________________________________\n",
            "Layer (type)                 Output Shape              Param #   \n",
            "=================================================================\n",
            "conv2d (Conv2D)              (None, 222, 222, 32)      896       \n",
            "_________________________________________________________________\n",
            "max_pooling2d (MaxPooling2D) (None, 111, 111, 32)      0         \n",
            "_________________________________________________________________\n",
            "conv2d_1 (Conv2D)            (None, 109, 109, 64)      18496     \n",
            "_________________________________________________________________\n",
            "max_pooling2d_1 (MaxPooling2 (None, 54, 54, 64)        0         \n",
            "_________________________________________________________________\n",
            "flatten (Flatten)            (None, 186624)            0         \n",
            "_________________________________________________________________\n",
            "dense (Dense)                (None, 254)               47402750  \n",
            "_________________________________________________________________\n",
            "dropout (Dropout)            (None, 254)               0         \n",
            "_________________________________________________________________\n",
            "dense_1 (Dense)              (None, 64)                16320     \n",
            "_________________________________________________________________\n",
            "dropout_1 (Dropout)          (None, 64)                0         \n",
            "_________________________________________________________________\n",
            "dense_2 (Dense)              (None, 10)                650       \n",
            "=================================================================\n",
            "Total params: 47,439,112\n",
            "Trainable params: 47,439,112\n",
            "Non-trainable params: 0\n",
            "_________________________________________________________________\n"
          ]
        }
      ]
    },
    {
      "cell_type": "code",
      "metadata": {
        "id": "50qQEG-ycqrz",
        "colab": {
          "base_uri": "https://localhost:8080/"
        },
        "outputId": "38c3dfa7-a43b-412e-9024-131f2e79ca2b"
      },
      "source": [
        "model.compile(loss=tensorflow.keras.losses.categorical_crossentropy, optimizer=tensorflow.keras.optimizers.SGD(0.01), metrics=[\"accuracy\",\"AUC\"]) #SparseCategoricalCrossentropy()   ooookkkkkkk\n",
        "#model.compile(loss=tensorflow.keras.losses.categorical_crossentropy, optimizer=tensorflow.keras.optimizers.Adam(0.01), metrics=[\"accuracy\",\"AUC\"]) #SparseCategoricalCrossentropy()\n",
        "#model.compile(loss=tensorflow.keras.losses.categorical_crossentropy, optimizer=tensorflow.keras.optimizers.RMSprop(0.01), metrics=[\"accuracy\",\"AUC\"]) #SparseCategoricalCrossentropy()\n",
        "model.fit(X_train,y_train,validation_data=(X_test,y_test), epochs=30,validation_split=0.1)\n",
        "\n",
        "pred=model.predict(X_test)\n",
        "pred=np.argmax(pred,axis=1)\n",
        "\n",
        "\n",
        "metrics_train=model.evaluate(X_train,y_train)\n",
        "metrics_test=model.evaluate(X_test,y_test)\n",
        "print(\"Train accuracy \",metrics_train[1])\n",
        "print(\"Test accuracy \",metrics_test[1])"
      ],
      "execution_count": 16,
      "outputs": [
        {
          "output_type": "stream",
          "name": "stdout",
          "text": [
            "Epoch 1/30\n",
            "107/107 [==============================] - 23s 59ms/step - loss: 8.2335 - accuracy: 0.1223 - auc: 0.5770 - val_loss: 8.0158 - val_accuracy: 0.2751 - val_auc: 0.7452\n",
            "Epoch 2/30\n",
            "107/107 [==============================] - 5s 49ms/step - loss: 7.8834 - accuracy: 0.1817 - auc: 0.6483 - val_loss: 7.6321 - val_accuracy: 0.3836 - val_auc: 0.7686\n",
            "Epoch 3/30\n",
            "107/107 [==============================] - 5s 50ms/step - loss: 7.5192 - accuracy: 0.2352 - auc: 0.7088 - val_loss: 7.1736 - val_accuracy: 0.3889 - val_auc: 0.8183\n",
            "Epoch 4/30\n",
            "107/107 [==============================] - 5s 50ms/step - loss: 7.1555 - accuracy: 0.3072 - auc: 0.7518 - val_loss: 6.9304 - val_accuracy: 0.3519 - val_auc: 0.7900\n",
            "Epoch 5/30\n",
            "107/107 [==============================] - 5s 49ms/step - loss: 6.8346 - accuracy: 0.3348 - auc: 0.7795 - val_loss: 6.5367 - val_accuracy: 0.5000 - val_auc: 0.8529\n",
            "Epoch 6/30\n",
            "107/107 [==============================] - 5s 50ms/step - loss: 6.5209 - accuracy: 0.3989 - auc: 0.8039 - val_loss: 6.2553 - val_accuracy: 0.5026 - val_auc: 0.8453\n",
            "Epoch 7/30\n",
            "107/107 [==============================] - 5s 50ms/step - loss: 6.2552 - accuracy: 0.4192 - auc: 0.8160 - val_loss: 5.9818 - val_accuracy: 0.5185 - val_auc: 0.8625\n",
            "Epoch 8/30\n",
            "107/107 [==============================] - 5s 50ms/step - loss: 5.9682 - accuracy: 0.4524 - auc: 0.8309 - val_loss: 5.6044 - val_accuracy: 0.6138 - val_auc: 0.8955\n",
            "Epoch 9/30\n",
            "107/107 [==============================] - 5s 50ms/step - loss: 5.7238 - accuracy: 0.4909 - auc: 0.8416 - val_loss: 5.3754 - val_accuracy: 0.6481 - val_auc: 0.8921\n",
            "Epoch 10/30\n",
            "107/107 [==============================] - 5s 50ms/step - loss: 5.4370 - accuracy: 0.5244 - auc: 0.8584 - val_loss: 5.0967 - val_accuracy: 0.6402 - val_auc: 0.9075\n",
            "Epoch 11/30\n",
            "107/107 [==============================] - 5s 50ms/step - loss: 5.2479 - accuracy: 0.5461 - auc: 0.8606 - val_loss: 5.1151 - val_accuracy: 0.5582 - val_auc: 0.8921\n",
            "Epoch 12/30\n",
            "107/107 [==============================] - 5s 50ms/step - loss: 4.9815 - accuracy: 0.5905 - auc: 0.8708 - val_loss: 4.8755 - val_accuracy: 0.5688 - val_auc: 0.8932\n",
            "Epoch 13/30\n",
            "107/107 [==============================] - 5s 50ms/step - loss: 4.8002 - accuracy: 0.5973 - auc: 0.8763 - val_loss: 4.7778 - val_accuracy: 0.5476 - val_auc: 0.8858\n",
            "Epoch 14/30\n",
            "107/107 [==============================] - 5s 50ms/step - loss: 4.5483 - accuracy: 0.6467 - auc: 0.8895 - val_loss: 4.9393 - val_accuracy: 0.5238 - val_auc: 0.8513\n",
            "Epoch 15/30\n",
            "107/107 [==============================] - 5s 50ms/step - loss: 4.3916 - accuracy: 0.6379 - auc: 0.8930 - val_loss: 4.2970 - val_accuracy: 0.6217 - val_auc: 0.9058\n",
            "Epoch 16/30\n",
            "107/107 [==============================] - 5s 50ms/step - loss: 4.1596 - accuracy: 0.6846 - auc: 0.9008 - val_loss: 4.0060 - val_accuracy: 0.7249 - val_auc: 0.9298\n",
            "Epoch 17/30\n",
            "107/107 [==============================] - 5s 50ms/step - loss: 3.9812 - accuracy: 0.7084 - auc: 0.9076 - val_loss: 3.8113 - val_accuracy: 0.7169 - val_auc: 0.9382\n",
            "Epoch 18/30\n",
            "107/107 [==============================] - 5s 50ms/step - loss: 3.7963 - accuracy: 0.7334 - auc: 0.9154 - val_loss: 3.6107 - val_accuracy: 0.7725 - val_auc: 0.9392\n",
            "Epoch 19/30\n",
            "107/107 [==============================] - 5s 50ms/step - loss: 3.6740 - accuracy: 0.7325 - auc: 0.9141 - val_loss: 3.8974 - val_accuracy: 0.6270 - val_auc: 0.9205\n",
            "Epoch 20/30\n",
            "107/107 [==============================] - 5s 50ms/step - loss: 3.4422 - accuracy: 0.7772 - auc: 0.9241 - val_loss: 3.3902 - val_accuracy: 0.7804 - val_auc: 0.9407\n",
            "Epoch 21/30\n",
            "107/107 [==============================] - 5s 50ms/step - loss: 3.3449 - accuracy: 0.7807 - auc: 0.9246 - val_loss: 3.5387 - val_accuracy: 0.6905 - val_auc: 0.9201\n",
            "Epoch 22/30\n",
            "107/107 [==============================] - 5s 50ms/step - loss: 3.2208 - accuracy: 0.7922 - auc: 0.9244 - val_loss: 3.0318 - val_accuracy: 0.8148 - val_auc: 0.9566\n",
            "Epoch 23/30\n",
            "107/107 [==============================] - 5s 50ms/step - loss: 3.0475 - accuracy: 0.8083 - auc: 0.9299 - val_loss: 2.8833 - val_accuracy: 0.8571 - val_auc: 0.9599\n",
            "Epoch 24/30\n",
            "107/107 [==============================] - 5s 50ms/step - loss: 2.9068 - accuracy: 0.8354 - auc: 0.9344 - val_loss: 2.9150 - val_accuracy: 0.8254 - val_auc: 0.9443\n",
            "Epoch 25/30\n",
            "107/107 [==============================] - 5s 50ms/step - loss: 2.7767 - accuracy: 0.8419 - auc: 0.9355 - val_loss: 2.7404 - val_accuracy: 0.8333 - val_auc: 0.9503\n",
            "Epoch 26/30\n",
            "107/107 [==============================] - 5s 50ms/step - loss: 2.6957 - accuracy: 0.8442 - auc: 0.9368 - val_loss: 2.5402 - val_accuracy: 0.8757 - val_auc: 0.9646\n",
            "Epoch 27/30\n",
            "107/107 [==============================] - 5s 50ms/step - loss: 2.5440 - accuracy: 0.8627 - auc: 0.9418 - val_loss: 2.4306 - val_accuracy: 0.8915 - val_auc: 0.9675\n",
            "Epoch 28/30\n",
            "107/107 [==============================] - 5s 50ms/step - loss: 2.4362 - accuracy: 0.8745 - auc: 0.9428 - val_loss: 2.8897 - val_accuracy: 0.7196 - val_auc: 0.9160\n",
            "Epoch 29/30\n",
            "107/107 [==============================] - 5s 50ms/step - loss: 2.3653 - accuracy: 0.8798 - auc: 0.9433 - val_loss: 2.3362 - val_accuracy: 0.8730 - val_auc: 0.9612\n",
            "Epoch 30/30\n",
            "107/107 [==============================] - 5s 51ms/step - loss: 2.2424 - accuracy: 0.8945 - auc: 0.9482 - val_loss: 2.1675 - val_accuracy: 0.9101 - val_auc: 0.9670\n",
            "119/119 [==============================] - 2s 17ms/step - loss: 1.9840 - accuracy: 0.9730 - auc: 0.9775\n",
            "51/51 [==============================] - 1s 16ms/step - loss: 2.1713 - accuracy: 0.9012 - auc: 0.9653\n",
            "Train accuracy  0.9730158448219299\n",
            "Test accuracy  0.9012345671653748\n"
          ]
        }
      ]
    },
    {
      "cell_type": "code",
      "metadata": {
        "id": "0f26-qThdCn7",
        "colab": {
          "base_uri": "https://localhost:8080/"
        },
        "outputId": "1d6ac12c-7aff-4337-8684-1e92aa76ce52"
      },
      "source": [
        "pred=model.predict(X_test)\n",
        "pred=np.argmax(pred,axis=1)\n",
        "yy=np.argmax(y_test,axis=1)\n",
        "cm= confusion_matrix(yy,pred)\n",
        "cm"
      ],
      "execution_count": 17,
      "outputs": [
        {
          "output_type": "execute_result",
          "data": {
            "text/plain": [
              "array([[135,   6,   8,   2,   5,   0,   2,   3,  19],\n",
              "       [  0, 166,   0,   0,   0,   0,   2,   1,  11],\n",
              "       [  3,   0, 174,   0,   0,   3,   0,   0,   0],\n",
              "       [  0,   7,   0, 162,   2,   0,   6,   2,   1],\n",
              "       [  0,  10,   0,   0, 150,   0,   2,   7,  11],\n",
              "       [  2,   3,   3,   1,   1, 168,   1,   0,   1],\n",
              "       [  0,  16,   0,   1,   1,   0, 154,   6,   2],\n",
              "       [  0,   5,   0,   0,   1,   0,   0, 172,   2],\n",
              "       [  0,   1,   0,   0,   0,   0,   0,   0, 179]])"
            ]
          },
          "metadata": {},
          "execution_count": 17
        }
      ]
    }
  ]
}